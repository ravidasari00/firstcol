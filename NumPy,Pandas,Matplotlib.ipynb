{
  "nbformat": 4,
  "nbformat_minor": 0,
  "metadata": {
    "colab": {
      "provenance": [],
      "mount_file_id": "1sUiXmgDqUTzOc0F8irUrq9bFkh86XyHB",
      "authorship_tag": "ABX9TyNMaPZjKnFgfXfGHVlOBCDn",
      "include_colab_link": true
    },
    "kernelspec": {
      "name": "python3",
      "display_name": "Python 3"
    },
    "language_info": {
      "name": "python"
    }
  },
  "cells": [
    {
      "cell_type": "markdown",
      "metadata": {
        "id": "view-in-github",
        "colab_type": "text"
      },
      "source": [
        "<a href=\"https://colab.research.google.com/github/ravidasari00/firstcol/blob/main/NumPy%2CPandas%2CMatplotlib.ipynb\" target=\"_parent\"><img src=\"https://colab.research.google.com/assets/colab-badge.svg\" alt=\"Open In Colab\"/></a>"
      ]
    },
    {
      "cell_type": "markdown",
      "source": [
        "**List**"
      ],
      "metadata": {
        "id": "koC3sS_ggdWh"
      }
    },
    {
      "cell_type": "code",
      "execution_count": null,
      "metadata": {
        "colab": {
          "base_uri": "https://localhost:8080/"
        },
        "id": "t1pwuwGnG5Z7",
        "outputId": "e1e6208f-6ac5-4176-b10d-b7a306314a87"
      },
      "outputs": [
        {
          "output_type": "stream",
          "name": "stdout",
          "text": [
            "[1, 1.2, 'r', 'RRR']\n",
            "[0, 1, 'r', 'RRR', 1]\n",
            "[0, 1, 'r', 'RRR', 1, 7, 8, 9]\n",
            "1\n",
            "[1, 'r']\n"
          ]
        }
      ],
      "source": [
        "list1=[1,1.2,'r',\"RRR\"]\n",
        "print(list1)\n",
        "list1.append(1)\n",
        "list1.insert(0,0)\n",
        "list1.remove(1.2)\n",
        "print(list1)\n",
        "list2=[7,8,9]\n",
        "list1.extend(list2)\n",
        "print(list1)\n",
        "#accessing element from list\n",
        "print(list1[1])\n",
        "#accessing range of elements from list\n",
        "print(list1[1:4])"
      ]
    },
    {
      "cell_type": "markdown",
      "source": [
        "**Set**"
      ],
      "metadata": {
        "id": "Ddo35pX7glrA"
      }
    },
    {
      "cell_type": "code",
      "source": [
        "#creating 2 sets\n",
        "set1=set()\n",
        "set2=set()\n",
        "#adding elements to sets\n",
        "for i in range(1,6):\n",
        "  set1.add(i)\n",
        "for x in range(4,10):\n",
        "  set2.add(x)\n",
        "print(set1)\n",
        "print(set2)\n",
        "#union\n",
        "print(set1|set2)\n",
        "print(\"union \\n\", set1.union(set2))\n",
        "#intersection\n",
        "print(\"intersection \\n\",set1.intersection(set2))\n",
        "print(\"intersection \\n\",set1&set2)\n",
        "#difference\n",
        "print(\"difference\",set1.difference(set2))"
      ],
      "metadata": {
        "colab": {
          "base_uri": "https://localhost:8080/"
        },
        "id": "m04qQYoggjDi",
        "outputId": "c5c960e2-d355-40e0-9664-231bc63fb207"
      },
      "execution_count": null,
      "outputs": [
        {
          "output_type": "stream",
          "name": "stdout",
          "text": [
            "{1, 2, 3, 4, 5}\n",
            "{4, 5, 6, 7, 8, 9}\n",
            "{1, 2, 3, 4, 5, 6, 7, 8, 9}\n",
            "union \n",
            " {1, 2, 3, 4, 5, 6, 7, 8, 9}\n",
            "intersection \n",
            " {4, 5}\n",
            "intersection \n",
            " {4, 5}\n",
            "difference {1, 2, 3}\n"
          ]
        }
      ]
    },
    {
      "cell_type": "markdown",
      "source": [
        "**numPY**"
      ],
      "metadata": {
        "id": "uQPPk6NKnhrZ"
      }
    },
    {
      "cell_type": "code",
      "source": [
        "import numpy as np\n",
        "arr=np.array([1,2,3,4,5,6])\n",
        "print(arr)\n",
        "print(type(arr))"
      ],
      "metadata": {
        "colab": {
          "base_uri": "https://localhost:8080/"
        },
        "id": "uiNg8fSrnhOf",
        "outputId": "7ceb1f73-bbbe-4d92-8abd-2974c619d44a"
      },
      "execution_count": null,
      "outputs": [
        {
          "output_type": "stream",
          "name": "stdout",
          "text": [
            "[1 2 3 4 5 6]\n",
            "<class 'numpy.ndarray'>\n"
          ]
        }
      ]
    },
    {
      "cell_type": "code",
      "source": [
        "import numpy as np\n",
        "arr = np.array([1, 2, 3, 4, 5, 6, 7, 8, 9, 10, 11, 12])\n",
        "\n",
        "newarr = arr.reshape(2,2,3)\n",
        "newarr1 = arr.reshape(4,3)\n",
        "print(newarr1)\n",
        "print(newarr)"
      ],
      "metadata": {
        "colab": {
          "base_uri": "https://localhost:8080/"
        },
        "id": "X23fdJubFZv-",
        "outputId": "8dee54e0-4330-4ccc-b8ba-26315185ef39"
      },
      "execution_count": null,
      "outputs": [
        {
          "output_type": "stream",
          "name": "stdout",
          "text": [
            "[[ 1  2  3]\n",
            " [ 4  5  6]\n",
            " [ 7  8  9]\n",
            " [10 11 12]]\n",
            "[[[ 1  2  3]\n",
            "  [ 4  5  6]]\n",
            "\n",
            " [[ 7  8  9]\n",
            "  [10 11 12]]]\n"
          ]
        }
      ]
    },
    {
      "cell_type": "code",
      "source": [
        "import numpy as np\n",
        "\n",
        "x=np.arange(100)\n",
        "y=x.reshape(10,10)\n",
        "print(x[x<80])\n",
        "print(x[x>=80])\n",
        "print(x[x%2==0])\n",
        "z=x[(x>25)&(x<75)]\n",
        "print(z)\n",
        "a=x<5\n",
        "print(a)\n",
        "print(y)\n",
        "print(x.sum())\n",
        "print(x*1.2)\n",
        "print(x.max())\n",
        "print(x.min())"
      ],
      "metadata": {
        "colab": {
          "base_uri": "https://localhost:8080/"
        },
        "id": "mjlKv1RM4dmV",
        "outputId": "a802c32b-7790-4325-873d-9f3eb2cd9ae3"
      },
      "execution_count": null,
      "outputs": [
        {
          "output_type": "stream",
          "name": "stdout",
          "text": [
            "[ 0  1  2  3  4  5  6  7  8  9 10 11 12 13 14 15 16 17 18 19 20 21 22 23\n",
            " 24 25 26 27 28 29 30 31 32 33 34 35 36 37 38 39 40 41 42 43 44 45 46 47\n",
            " 48 49 50 51 52 53 54 55 56 57 58 59 60 61 62 63 64 65 66 67 68 69 70 71\n",
            " 72 73 74 75 76 77 78 79]\n",
            "[80 81 82 83 84 85 86 87 88 89 90 91 92 93 94 95 96 97 98 99]\n",
            "[ 0  2  4  6  8 10 12 14 16 18 20 22 24 26 28 30 32 34 36 38 40 42 44 46\n",
            " 48 50 52 54 56 58 60 62 64 66 68 70 72 74 76 78 80 82 84 86 88 90 92 94\n",
            " 96 98]\n",
            "[26 27 28 29 30 31 32 33 34 35 36 37 38 39 40 41 42 43 44 45 46 47 48 49\n",
            " 50 51 52 53 54 55 56 57 58 59 60 61 62 63 64 65 66 67 68 69 70 71 72 73\n",
            " 74]\n",
            "[ True  True  True  True  True False False False False False False False\n",
            " False False False False False False False False False False False False\n",
            " False False False False False False False False False False False False\n",
            " False False False False False False False False False False False False\n",
            " False False False False False False False False False False False False\n",
            " False False False False False False False False False False False False\n",
            " False False False False False False False False False False False False\n",
            " False False False False False False False False False False False False\n",
            " False False False False]\n",
            "[[ 0  1  2  3  4  5  6  7  8  9]\n",
            " [10 11 12 13 14 15 16 17 18 19]\n",
            " [20 21 22 23 24 25 26 27 28 29]\n",
            " [30 31 32 33 34 35 36 37 38 39]\n",
            " [40 41 42 43 44 45 46 47 48 49]\n",
            " [50 51 52 53 54 55 56 57 58 59]\n",
            " [60 61 62 63 64 65 66 67 68 69]\n",
            " [70 71 72 73 74 75 76 77 78 79]\n",
            " [80 81 82 83 84 85 86 87 88 89]\n",
            " [90 91 92 93 94 95 96 97 98 99]]\n",
            "4950\n",
            "[  0.    1.2   2.4   3.6   4.8   6.    7.2   8.4   9.6  10.8  12.   13.2\n",
            "  14.4  15.6  16.8  18.   19.2  20.4  21.6  22.8  24.   25.2  26.4  27.6\n",
            "  28.8  30.   31.2  32.4  33.6  34.8  36.   37.2  38.4  39.6  40.8  42.\n",
            "  43.2  44.4  45.6  46.8  48.   49.2  50.4  51.6  52.8  54.   55.2  56.4\n",
            "  57.6  58.8  60.   61.2  62.4  63.6  64.8  66.   67.2  68.4  69.6  70.8\n",
            "  72.   73.2  74.4  75.6  76.8  78.   79.2  80.4  81.6  82.8  84.   85.2\n",
            "  86.4  87.6  88.8  90.   91.2  92.4  93.6  94.8  96.   97.2  98.4  99.6\n",
            " 100.8 102.  103.2 104.4 105.6 106.8 108.  109.2 110.4 111.6 112.8 114.\n",
            " 115.2 116.4 117.6 118.8]\n",
            "99\n",
            "0\n"
          ]
        }
      ]
    },
    {
      "cell_type": "code",
      "source": [
        "import numpy as np\n",
        "x=np.empty(2)\n",
        "y=np.ones(2)\n",
        "z=np.ones(4,dtype=np.int64)\n",
        "print(x)\n",
        "print(y)\n",
        "print(z)"
      ],
      "metadata": {
        "colab": {
          "base_uri": "https://localhost:8080/"
        },
        "id": "FJnC8kyV7S-Z",
        "outputId": "5348c439-d47f-4534-95a4-0f83efaeb93b"
      },
      "execution_count": null,
      "outputs": [
        {
          "output_type": "stream",
          "name": "stdout",
          "text": [
            "[1. 1.]\n",
            "[1. 1.]\n",
            "[1 1 1 1]\n"
          ]
        }
      ]
    },
    {
      "cell_type": "code",
      "source": [
        "import numpy as np\n",
        "\n",
        "x=np.arange(1,100,2)\n",
        "y=np.arange(1,21).reshape(2,10)\n",
        "print(x)\n",
        "print(y)"
      ],
      "metadata": {
        "colab": {
          "base_uri": "https://localhost:8080/"
        },
        "id": "3SuyqXWU78gD",
        "outputId": "f6480464-5f42-475c-f393-3f17684dc625"
      },
      "execution_count": null,
      "outputs": [
        {
          "output_type": "stream",
          "name": "stdout",
          "text": [
            "[ 1  3  5  7  9 11 13 15 17 19 21 23 25 27 29 31 33 35 37 39 41 43 45 47\n",
            " 49 51 53 55 57 59 61 63 65 67 69 71 73 75 77 79 81 83 85 87 89 91 93 95\n",
            " 97 99]\n",
            "[[ 1  2  3  4  5  6  7  8  9 10]\n",
            " [11 12 13 14 15 16 17 18 19 20]]\n"
          ]
        }
      ]
    },
    {
      "cell_type": "code",
      "source": [
        "import numpy as np\n",
        "x=np.array([2,5,1,2,4,9,5,8,6])\n",
        "y=np.array([10,20,30,40,50])\n",
        "print(x)\n",
        "print(np.sort(x))\n",
        "np.concatenate((x,y))"
      ],
      "metadata": {
        "colab": {
          "base_uri": "https://localhost:8080/"
        },
        "id": "cBIlBQKm9Eoz",
        "outputId": "13cc1ed6-d008-49e7-f221-95ed77d04e76"
      },
      "execution_count": null,
      "outputs": [
        {
          "output_type": "stream",
          "name": "stdout",
          "text": [
            "[2 5 1 2 4 9 5 8 6]\n",
            "[1 2 2 4 5 5 6 8 9]\n"
          ]
        },
        {
          "output_type": "execute_result",
          "data": {
            "text/plain": [
              "array([ 2,  5,  1,  2,  4,  9,  5,  8,  6, 10, 20, 30, 40, 50])"
            ]
          },
          "metadata": {},
          "execution_count": 17
        }
      ]
    },
    {
      "cell_type": "code",
      "source": [
        "import numpy as np\n",
        "x=np.array([[[1,3,2,4],\n",
        "             [4,5,6,8]],\n",
        "            \n",
        "            [[11,12,13,14],\n",
        "             [16,17,18,19]],\n",
        "                      \n",
        "            [[1,3,2,4],\n",
        "             [4,5,6,8]]])\n",
        "print(x.ndim)\n",
        "print(x.shape)\n",
        "print(x.size)\n",
        "print(x)"
      ],
      "metadata": {
        "colab": {
          "base_uri": "https://localhost:8080/"
        },
        "id": "Z3vd71ZWAe8i",
        "outputId": "ff191a12-4bdb-4f55-c972-3c0c1276159b"
      },
      "execution_count": null,
      "outputs": [
        {
          "output_type": "stream",
          "name": "stdout",
          "text": [
            "3\n",
            "(3, 2, 4)\n",
            "24\n",
            "[[[ 1  3  2  4]\n",
            "  [ 4  5  6  8]]\n",
            "\n",
            " [[11 12 13 14]\n",
            "  [16 17 18 19]]\n",
            "\n",
            " [[ 1  3  2  4]\n",
            "  [ 4  5  6  8]]]\n"
          ]
        }
      ]
    },
    {
      "cell_type": "code",
      "source": [
        "import numpy as np\n",
        "x=np.array([[1,1],\n",
        "            [2,2]])\n",
        "y=np.array([[3,3],\n",
        "            [4,4]])\n",
        "z=np.vstack((x,y))\n",
        "print(z)\n",
        "a=np.hstack((x,y))\n",
        "print(a)\n",
        "print(np.unique(x))"
      ],
      "metadata": {
        "colab": {
          "base_uri": "https://localhost:8080/"
        },
        "id": "Ytw1VDX2eAGs",
        "outputId": "e05b717c-d9f4-4439-e72d-ffb294e65bb9"
      },
      "execution_count": null,
      "outputs": [
        {
          "output_type": "stream",
          "name": "stdout",
          "text": [
            "[[1 1]\n",
            " [2 2]\n",
            " [3 3]\n",
            " [4 4]]\n",
            "[[1 1 3 3]\n",
            " [2 2 4 4]]\n",
            "[1 2]\n"
          ]
        }
      ]
    },
    {
      "cell_type": "code",
      "source": [
        "import numpy as np\n",
        "x=np.array([2,6])\n",
        "y=np.array([1,4])\n",
        "z=x+y\n",
        "a=x*y\n",
        "print(z)\n",
        "print(a)\n",
        "print(np.eye(6))\n",
        "print(np.linspace(0,100,5))\n",
        "print(np.random.rand(10))\n",
        "print(np.random.randint(100,size=(5)))\n",
        "print(np.random.randint(500,size=(3,5)))\n",
        "print(np.diff(x))"
      ],
      "metadata": {
        "colab": {
          "base_uri": "https://localhost:8080/"
        },
        "id": "DqkJKwhthfOg",
        "outputId": "1fdc908a-4672-4ab4-ec30-b7b3385415f9"
      },
      "execution_count": null,
      "outputs": [
        {
          "output_type": "stream",
          "name": "stdout",
          "text": [
            "[ 3 10]\n",
            "[ 2 24]\n",
            "[[1. 0. 0. 0. 0. 0.]\n",
            " [0. 1. 0. 0. 0. 0.]\n",
            " [0. 0. 1. 0. 0. 0.]\n",
            " [0. 0. 0. 1. 0. 0.]\n",
            " [0. 0. 0. 0. 1. 0.]\n",
            " [0. 0. 0. 0. 0. 1.]]\n",
            "[  0.  25.  50.  75. 100.]\n",
            "[0.54331094 0.75572439 0.16463409 0.6728967  0.37905121 0.25297674\n",
            " 0.71075495 0.56673886 0.27492133 0.48117259]\n",
            "[ 1 10 44  1 21]\n",
            "[[ 80 123 463  59 406]\n",
            " [291 126 418 234 100]\n",
            " [495 401  87 272 130]]\n",
            "[4]\n"
          ]
        }
      ]
    },
    {
      "cell_type": "code",
      "source": [
        "import numpy as np\n",
        "n1=120\n",
        "n2=56\n",
        "print(np.lcm(n1,n2))\n",
        "print(np.gcd(n1,n2))\n",
        "x=np.array([2,5,6,8])\n",
        "print(np.lcm.reduce(x))\n",
        "y=np.sin(np.pi/2)\n",
        "print(y)"
      ],
      "metadata": {
        "colab": {
          "base_uri": "https://localhost:8080/"
        },
        "id": "ZOcZG_Oho49_",
        "outputId": "a74564ff-e2f4-4413-a72f-eb2fc8aeef26"
      },
      "execution_count": null,
      "outputs": [
        {
          "output_type": "stream",
          "name": "stdout",
          "text": [
            "840\n",
            "8\n",
            "120\n",
            "1.0\n"
          ]
        }
      ]
    },
    {
      "cell_type": "markdown",
      "source": [
        "### **Pandas**"
      ],
      "metadata": {
        "id": "U931glCI1zFJ"
      }
    },
    {
      "cell_type": "code",
      "source": [
        "import pandas as pd\n",
        "data=pd.DataFrame({'Names':['ram','manish','jai'],\n",
        "                 'Passings':[3,7,2]})\n",
        "print(data)"
      ],
      "metadata": {
        "colab": {
          "base_uri": "https://localhost:8080/"
        },
        "id": "WPcdBc4jyvP9",
        "outputId": "4f302b8b-f651-433f-f31c-4f7f129c6174"
      },
      "execution_count": null,
      "outputs": [
        {
          "output_type": "stream",
          "name": "stdout",
          "text": [
            "    Names  Passings\n",
            "0     ram         3\n",
            "1  manish         7\n",
            "2     jai         2\n"
          ]
        }
      ]
    },
    {
      "cell_type": "code",
      "source": [
        "import pandas as pd\n",
        "data=[['Ravi',99,'17kb1A0534'],['pawan',75,'17kb1A0535'],['Ramu',78,'17kb1A0536'],['Kiran',88,'17kb1A0537']]\n",
        "df=pd.DataFrame(data,columns=['Name','Marks %','Roll No'],dtype=float)\n",
        "print(df)"
      ],
      "metadata": {
        "colab": {
          "base_uri": "https://localhost:8080/"
        },
        "id": "9wxK5Ew13iuY",
        "outputId": "2f4b0a4b-f36e-4eb5-98c4-f028069af525"
      },
      "execution_count": null,
      "outputs": [
        {
          "output_type": "stream",
          "name": "stdout",
          "text": [
            "    Name  Marks %     Roll No\n",
            "0   Ravi     99.0  17kb1A0534\n",
            "1  pawan     75.0  17kb1A0535\n",
            "2   Ramu     78.0  17kb1A0536\n",
            "3  Kiran     88.0  17kb1A0537\n"
          ]
        },
        {
          "output_type": "stream",
          "name": "stderr",
          "text": [
            "/usr/local/lib/python3.8/dist-packages/IPython/core/interactiveshell.py:3326: FutureWarning: Could not cast to float64, falling back to object. This behavior is deprecated. In a future version, when a dtype is passed to 'DataFrame', either all columns will be cast to that dtype, or a TypeError will be raised\n",
            "  exec(code_obj, self.user_global_ns, self.user_ns)\n"
          ]
        }
      ]
    },
    {
      "cell_type": "code",
      "source": [
        "import pandas as pd\n",
        "df=pd.DataFrame({\n",
        "    'Name':['Ravi','Pawan','Sai','Jeeva','Charan','Tharun'],\n",
        "      'Age':[23,24,23,22,21,25],\n",
        "     'Weight':[68,75,67,88,71,64],\n",
        "     'Gendar':['M','M','M','M','M','M'],\n",
        "    'State':['AP','TN','TE','MP','AP','HP'],\n",
        "    'R.No':[89,83,93,86,99,87]\n",
        "})\n",
        "print(df)"
      ],
      "metadata": {
        "colab": {
          "base_uri": "https://localhost:8080/"
        },
        "id": "bhNJouip3-uv",
        "outputId": "bf55a915-c216-4e88-f582-4d646c01bf9e"
      },
      "execution_count": null,
      "outputs": [
        {
          "output_type": "stream",
          "name": "stdout",
          "text": [
            "     Name  Age  Weight Gendar State  R.No\n",
            "0    Ravi   23      68      M    AP    89\n",
            "1   Pawan   24      75      M    TN    83\n",
            "2     Sai   23      67      M    TE    93\n",
            "3   Jeeva   22      88      M    MP    86\n",
            "4  Charan   21      71      M    AP    99\n",
            "5  Tharun   25      64      M    HP    87\n"
          ]
        }
      ]
    },
    {
      "cell_type": "code",
      "source": [
        "import pandas as pd\n",
        "print(pd.__version__)\n",
        "#A Pandas Series is like a column in a table.\n",
        "#It is a one-dimensional array holding data of any type.\n",
        "a=[2,4,1,6]\n",
        "print(pd.Series(a))\n",
        "print(a[0:4])\n",
        "#With the index argument, you can name your own labels.\n",
        "print(pd.Series(a,index=['x','y','z','a']))\n",
        "#You can also use a key/value object, like a dictionary, when creating a Series.\n",
        "b={'ra':1,'br':2,'fg':3}\n",
        "print(pd.Series(b))"
      ],
      "metadata": {
        "colab": {
          "base_uri": "https://localhost:8080/"
        },
        "id": "Xwafl6Kr4O17",
        "outputId": "f41631f0-05e5-4c9a-e8da-ae2617cebaca"
      },
      "execution_count": null,
      "outputs": [
        {
          "output_type": "stream",
          "name": "stdout",
          "text": [
            "1.3.5\n",
            "0    2\n",
            "1    4\n",
            "2    1\n",
            "3    6\n",
            "dtype: int64\n",
            "[2, 4, 1, 6]\n",
            "x    2\n",
            "y    4\n",
            "z    1\n",
            "a    6\n",
            "dtype: int64\n",
            "ra    1\n",
            "br    2\n",
            "fg    3\n",
            "dtype: int64\n"
          ]
        }
      ]
    },
    {
      "cell_type": "code",
      "source": [
        "#data sets in Pandas are usually multi-dimensional tables, called DataFrames.\n",
        "#Series is like a column, a DataFrame is the whole table.\n",
        "#Create a DataFrame from two Series:\n",
        "import pandas as pd\n",
        "a={'duration':[1,2,3,4,5,6],\n",
        "   'calories':[7,8,9,10,11,12]}\n",
        "print(pd.DataFrame(a))\n",
        "#As you can see from the result above, the DataFrame is like a table with rows and columns.\n",
        "#Pandas use the loc attribute to return one or more specified row(s)\n",
        "print(pd.DataFrame(a).loc[4])\n",
        "#With the index argument, you can name your own indexes.\n",
        "m=pd.DataFrame(a,index=['a','b','c','d','e','f'])\n",
        "print(m)\n",
        "print(m.loc['b'])"
      ],
      "metadata": {
        "colab": {
          "base_uri": "https://localhost:8080/"
        },
        "id": "lKDRjRXo8aBq",
        "outputId": "8caf5648-4943-47d1-d244-53e4ab6f39b8"
      },
      "execution_count": null,
      "outputs": [
        {
          "output_type": "stream",
          "name": "stdout",
          "text": [
            "   duration  calories\n",
            "0         1         7\n",
            "1         2         8\n",
            "2         3         9\n",
            "3         4        10\n",
            "4         5        11\n",
            "5         6        12\n",
            "duration     5\n",
            "calories    11\n",
            "Name: 4, dtype: int64\n",
            "   duration  calories\n",
            "a         1         7\n",
            "b         2         8\n",
            "c         3         9\n",
            "d         4        10\n",
            "e         5        11\n",
            "f         6        12\n",
            "duration    2\n",
            "calories    8\n",
            "Name: b, dtype: int64\n"
          ]
        }
      ]
    },
    {
      "cell_type": "code",
      "source": [
        "#If your data sets are stored in a file, Pandas can load them into a DataFrame.\n",
        "import pandas as pd\n",
        "data=pd.read_csv(\"/content/drive/MyDrive/ProductsQty.csv\")\n",
        "print(data)"
      ],
      "metadata": {
        "colab": {
          "base_uri": "https://localhost:8080/"
        },
        "id": "zXfzyEMgCAky",
        "outputId": "bd599541-3aac-4629-eb20-3dae8d5f29b7"
      },
      "execution_count": null,
      "outputs": [
        {
          "output_type": "stream",
          "name": "stdout",
          "text": [
            "  Products  Quantity\n",
            "0      Fan        30\n",
            "1       AC        45\n",
            "2   Cooler        60\n",
            "3   Fridge        55\n",
            "4   Laptop       101\n",
            "5   Mobile       500\n"
          ]
        }
      ]
    },
    {
      "cell_type": "markdown",
      "source": [
        "**matplotlib**"
      ],
      "metadata": {
        "id": "l36FxI4guF5K"
      }
    },
    {
      "cell_type": "code",
      "source": [
        "import matplotlib.pyplot as plt\n",
        "import numpy as np\n",
        "x=np.array([0,10])\n",
        "y=np.array([0,500])\n",
        "plt.plot(x,y)\n",
        "plt.show()"
      ],
      "metadata": {
        "colab": {
          "base_uri": "https://localhost:8080/",
          "height": 265
        },
        "id": "h0Pc1YZ2uMen",
        "outputId": "214b0d2a-e7d6-4de2-c077-e718ca6a1484"
      },
      "execution_count": null,
      "outputs": [
        {
          "output_type": "display_data",
          "data": {
            "text/plain": [
              "<Figure size 432x288 with 1 Axes>"
            ],
            "image/png": "[encoded data removed]"
          },
          "metadata": {
            "needs_background": "light"
          }
        }
      ]
    },
    {
      "cell_type": "code",
      "source": [
        "import matplotlib.pyplot as plt\n",
        "import numpy as np\n",
        "x=np.array([1,25])\n",
        "y=np.array([1,100])\n",
        "plt.plot(x,y,'o')\n",
        "plt.show()"
      ],
      "metadata": {
        "colab": {
          "base_uri": "https://localhost:8080/",
          "height": 265
        },
        "id": "9Ugz40ASvG5t",
        "outputId": "a9592b9c-e808-4395-9c5e-549855ff17aa"
      },
      "execution_count": null,
      "outputs": [
        {
          "output_type": "display_data",
          "data": {
            "text/plain": [
              "<Figure size 432x288 with 1 Axes>"
            ],
            "image/png": "[encoded data removed]"
          },
          "metadata": {
            "needs_background": "light"
          }
        }
      ]
    },
    {
      "cell_type": "code",
      "source": [
        "#Markers\n",
        "import matplotlib.pyplot as plt\n",
        "import numpy as np\n",
        "x=np.array([3,4,1,6,8])\n",
        "y=np.array([1,2,5,6,9])\n",
        "plt.plot(x,y,'*:r',ms=20,mec='green',mfc='yellow',linewidth=2)# we can use : or -- or _ or-.\n",
        "# add labels & title, create fonts \n",
        "font1={'family':'fantasy','color':'blue','size':20}\n",
        "font2={'family':'serif','color': 'r','size':15}\n",
        "plt.title(\"First Graph\",fontdict=font1,loc='left')\n",
        "plt.xlabel(\"Rows\",fontdict=font2)\n",
        "plt.ylabel(\"Columns\",fontdict=font2)\n",
        "plt.grid(axis='x',linestyle=':')\n",
        "plt.show()"
      ],
      "metadata": {
        "colab": {
          "base_uri": "https://localhost:8080/",
          "height": 301
        },
        "id": "2li1OLgux_Ie",
        "outputId": "1d6236d5-5769-4e6b-f6aa-19e126b4fb74"
      },
      "execution_count": null,
      "outputs": [
        {
          "output_type": "display_data",
          "data": {
            "text/plain": [
              "<Figure size 432x288 with 1 Axes>"
            ],
            "image/png": "[encoded data removed]"
          },
          "metadata": {
            "needs_background": "light"
          }
        }
      ]
    },
    {
      "cell_type": "code",
      "source": [
        "#"
      ],
      "metadata": {
        "id": "Y1-hZFov1CaE"
      },
      "execution_count": null,
      "outputs": []
    },
    {
      "cell_type": "code",
      "source": [
        "#Subplot\n",
        "import matplotlib.pyplot as plt\n",
        "import numpy as np\n",
        "\n",
        "#plot 1:\n",
        "x = np.array([0, 1, 2, 3])\n",
        "y = np.array([3, 8, 1, 10])\n",
        "#The subplot() function takes three arguments that describes the layout of the figure.\n",
        "#The layout is organized in rows and columns, which are represented by the first and second argument.\n",
        "#The third argument represents the index of the current plot.\n",
        "plt.subplot(2, 2, 1)\n",
        "#the figure has 2 row, 2 columns, and this plot is the first plot.\n",
        "plt.plot(x,y)\n",
        "\n",
        "#plot 2:\n",
        "x = np.array([0, 1, 2, 3])\n",
        "y = np.array([10, 20, 30, 40])\n",
        "\n",
        "plt.subplot(2, 2, 2)\n",
        "plt.plot(x,y)\n",
        "\n",
        "plt.show()"
      ],
      "metadata": {
        "colab": {
          "base_uri": "https://localhost:8080/",
          "height": 147
        },
        "id": "jlQfQXuP6tWb",
        "outputId": "a4155a44-f631-4600-ce02-6669f7e63c54"
      },
      "execution_count": null,
      "outputs": [
        {
          "output_type": "display_data",
          "data": {
            "text/plain": [
              "<Figure size 432x288 with 2 Axes>"
            ],
            "image/png": "[encoded data removed]"
          },
          "metadata": {
            "needs_background": "light"
          }
        }
      ]
    },
    {
      "cell_type": "code",
      "source": [
        "import matplotlib.pyplot as plt \n",
        "import numpy as np\n",
        "y=np.array([1,3,7,5,3,9,10])\n",
        "colors = np.array([0, 10, 20, 30, 40, 45, 50])\n",
        "\n",
        "plt.scatter(x, y, c=colors, cmap='viridis')\n",
        "plt.colorbar()\n",
        "plt.show()"
      ],
      "metadata": {
        "colab": {
          "base_uri": "https://localhost:8080/",
          "height": 269
        },
        "id": "5Ug4P3G99iov",
        "outputId": "d196fe80-d562-4c89-9a0a-2507f596a238"
      },
      "execution_count": null,
      "outputs": [
        {
          "output_type": "display_data",
          "data": {
            "text/plain": [
              "<Figure size 432x288 with 2 Axes>"
            ],
            "image/png": "[encoded data removed]"
          },
          "metadata": {
            "needs_background": "light"
          }
        }
      ]
    },
    {
      "cell_type": "code",
      "source": [
        "import matplotlib.pyplot as plt\n",
        "import numpy as np\n",
        "\n",
        "x = np.random.randint(100, size=(100))\n",
        "y = np.random.randint(100, size=(100))\n",
        "colors = np.random.randint(100, size=(100))\n",
        "sizes = 10 * np.random.randint(100, size=(100))\n",
        "\n",
        "plt.scatter(x, y, c=colors, s=sizes, alpha=0.5, cmap='nipy_spectral')\n",
        "\n",
        "plt.colorbar()\n",
        "\n",
        "plt.show()"
      ],
      "metadata": {
        "colab": {
          "base_uri": "https://localhost:8080/",
          "height": 265
        },
        "id": "C9vlug_jBtbe",
        "outputId": "b96e7041-6892-4acf-bb26-5db2f23285cf"
      },
      "execution_count": null,
      "outputs": [
        {
          "output_type": "display_data",
          "data": {
            "text/plain": [
              "<Figure size 432x288 with 2 Axes>"
            ],
            "image/png": "[encoded data removed]"
          },
          "metadata": {
            "needs_background": "light"
          }
        }
      ]
    },
    {
      "cell_type": "code",
      "source": [
        "import matplotlib.pyplot as plt\n",
        "import numpy as np\n",
        "\n",
        "x = np.array([\"a\",\"b\",\"c\",\"d\"])\n",
        "y = np.array([3, 8, 1, 10])\n",
        "\n",
        "plt.bar(x,y)\n",
        "plt.show()"
      ],
      "metadata": {
        "colab": {
          "base_uri": "https://localhost:8080/",
          "height": 265
        },
        "id": "dSo1pnkfCDcd",
        "outputId": "f3a2dc5f-9ddd-4846-d695-12e924e4701c"
      },
      "execution_count": null,
      "outputs": [
        {
          "output_type": "display_data",
          "data": {
            "text/plain": [
              "<Figure size 432x288 with 1 Axes>"
            ],
            "image/png": "[encoded data removed]"
          },
          "metadata": {
            "needs_background": "light"
          }
        }
      ]
    },
    {
      "cell_type": "code",
      "source": [
        "#A histogram is a graph showing frequency distributions.\n",
        "import numpy as np\n",
        "import matplotlib.pyplot as plt\n",
        "x=np.random.normal(1000,10,100)\n",
        "plt.hist(x)\n",
        "plt.show()"
      ],
      "metadata": {
        "colab": {
          "base_uri": "https://localhost:8080/",
          "height": 265
        },
        "id": "Q6HomtkVCxVV",
        "outputId": "10c08e99-2027-4315-a698-c2ba19f11b1f"
      },
      "execution_count": null,
      "outputs": [
        {
          "output_type": "display_data",
          "data": {
            "text/plain": [
              "<Figure size 432x288 with 1 Axes>"
            ],
            "image/png": "[encoded data removed]"
          },
          "metadata": {
            "needs_background": "light"
          }
        }
      ]
    },
    {
      "cell_type": "markdown",
      "source": [
        "**Pie Chart**"
      ],
      "metadata": {
        "id": "973c0ZKmE3Tb"
      }
    },
    {
      "cell_type": "code",
      "source": [
        "import matplotlib.pyplot as plt\n",
        "import numpy as np\n",
        "x=np.array([2,3,4])\n",
        "labels1=[\"apple\",\"mango\",\"grapes\"]\n",
        "explodes=[0.5,0,0]\n",
        "plt.pie(x,labels=labels1,explode=explodes)\n",
        "plt.legend(title='Fruits')\n",
        "plt.show()"
      ],
      "metadata": {
        "colab": {
          "base_uri": "https://localhost:8080/",
          "height": 253
        },
        "id": "Hm7cw_fvE5vf",
        "outputId": "76f3e3c4-37a2-4f27-8da3-61bab90d7076"
      },
      "execution_count": null,
      "outputs": [
        {
          "output_type": "display_data",
          "data": {
            "text/plain": [
              "<Figure size 432x288 with 1 Axes>"
            ],
            "image/png": "[encoded data removed]"
          },
          "metadata": {}
        }
      ]
    }
  ]
}